{
 "cells": [
  {
   "cell_type": "markdown",
   "id": "326fbb51",
   "metadata": {},
   "source": [
    "# Einführung in Informatik in Kultur und Gesundheit\n",
    "## Gesundheitsinformatik Teil 4"
   ]
  },
  {
   "cell_type": "markdown",
   "id": "672c1952",
   "metadata": {},
   "source": [
    "Die beiden letzten Seminare haben wir uns damit beschäftigt, wie man FASTA-Dateien einlesen kann und welche herausforderungen dabei bestehen. Noch mal zur Erinnerung. FASTA-Dateien werden genutzt um Genomische oder Proteinsequenzen abzuspeichern. Daher muss man immer darauf achten was in der Datei tatsächlich enthalten ist.\n",
    "\n",
    "Im Seminar haben wir auch besprochen, wie das NGS (Shortread Sequencing) funktioniert. Daher wollen wir uns nun mit den daraus resultierenden Daten etwas beschäfgigen. Zunächst kümmern wir uns um die heutigen imports und anschließend laden wir uns wieder die Daten herunter. Dazu nutzen wir wieder den Code aus dem 2. Seminar. "
   ]
  },
  {
   "cell_type": "code",
   "execution_count": null,
   "id": "76375ed0",
   "metadata": {},
   "outputs": [],
   "source": [
    "import requests # Zum herunterladen der Daten\n",
    "import seaborn as sns # Zum Visualisieren\n",
    "import os       # Zum erstellen und löschen von Verzeichnissen\n",
    "import pandas\n",
    "import matplotlib.pyplot as plt\n",
    "import math"
   ]
  },
  {
   "cell_type": "markdown",
   "id": "5fc92082",
   "metadata": {},
   "source": [
    "### Daten Downloader:"
   ]
  },
  {
   "cell_type": "code",
   "execution_count": null,
   "id": "86333f25",
   "metadata": {},
   "outputs": [],
   "source": [
    "directory = \"EKG_S4\"\n",
    "if not os.path.isdir(directory):\n",
    "    os.mkdir(\"EKG_S4\")\n",
    "# Inhalt des neuen Verzeichnisses Anzeigen    \n",
    "print(os.listdir(\"EKG_S4\"))\n",
    "\n",
    "\n",
    "def downloadData (url,dateipfad):\n",
    "    with open(dateipfad,\"w\") as datei:\n",
    "        response = requests.get(url)\n",
    "        print(\"Status Code des HTTP-Requests:\",response.status_code)\n",
    "        if response.status_code ==200:\n",
    "            datei.write(response.text)\n"
   ]
  },
  {
   "cell_type": "markdown",
   "id": "d5cbecb2",
   "metadata": {},
   "source": [
    "### Die Daten"
   ]
  },
  {
   "cell_type": "code",
   "execution_count": null,
   "id": "6c48e0f2",
   "metadata": {},
   "outputs": [],
   "source": [
    "daten = \"EKG_S4/Sample1.fastq\"\n",
    "downloadData(\"https://raw.githubusercontent.com/htw-wulf/EKG_S4/main/daten/Sample1.fastq\",\"EKG_S4/Sample1.fastq\")"
   ]
  },
  {
   "cell_type": "markdown",
   "id": "9d8270ec",
   "metadata": {},
   "source": [
    "## Das FASTQ-Format"
   ]
  },
  {
   "cell_type": "markdown",
   "id": "7387a6a3",
   "metadata": {},
   "source": [
    "Ähnlich wie das FASTA-Format ist das FASTQ-Format ein Plaintext Format. Dieses mal können jedoch nur Daten genomischen Ursprungs enthalten sein. Proteindaten können wir also ausschließen. Im Fall vom NGS befinden sich auch ausschließlich Sequenzdaten aus dem Alphabet \"A\",\"C\",\"G\",\"T\",\"N\" in den Daten und die Sequenzen sind recht kurz <= 310BP.\n",
    "\n",
    "Ein einzellner Eintrag besteht immer aus 4 Zeilen. Tut er das nicht ist der Eintrag unvollständig. Dabei sind die Inhalte der Zeilen wie folgt aufgebaut:\n",
    "\n",
    "1. Header\n",
    "2. Sequenzdaten\n",
    "3. Kommentar\n",
    "4. Sequenzierqualitäten codiert als ASCII Symbole\n",
    "\n",
    "### Header\n",
    "[Detail Beschreibung](https://help.basespace.illumina.com/files-used-by-basespace/fastq-files) und [Hier](https://knowledge.illumina.com/software/general/software-general-reference_material-list/000002211)\n",
    "\n",
    "### Aufbau eines Einzelleintrags\n",
    "\n",
    "\n",
    "***Beispiel-Header:*** `@<instrument>:<run number>:<flowcell ID>:<lane>:<tile>:<x-pos>:<y-pos>(/<read>)` (in Klammern ist optional)\n",
    "\n",
    "***Beispiel-Sequenz:*** `ATGCTTAGCATATCGTTTAGGCN`\n",
    "\n",
    "***Beispiel-Kommentar:*** `+`\n",
    "\n",
    "***Beispiel-Sequencing Qualities:*** `EAAAEADDDFFADFASDFASDF+`\n",
    "\n",
    "\n",
    "\n",
    "***Aufgabe 1***: Definieren Sie eine Klasse `FASTQ_ENTRY` die die 4 Zeilen eines FASTQ-Eintrags als Einzellargumente bekommt. Dabei soll der Header bei der Initialisierung  in seine einzellnen erforderlichen Felder aufgeteilt werden. Zudem soll die BuildIn  `len()` Funktion die Länge der Sequenz zurück geben. \n",
    "\n"
   ]
  },
  {
   "cell_type": "code",
   "execution_count": null,
   "id": "e1a8f264",
   "metadata": {},
   "outputs": [],
   "source": [
    "class FASTQ_ENTRY:\n",
    "    def __init__(self,xxx):\n",
    "        pass\n",
    "    \n",
    "    def __len__(self):\n",
    "        pass\n",
    "        "
   ]
  },
  {
   "cell_type": "markdown",
   "id": "60c3483f",
   "metadata": {},
   "source": [
    "***Aufgabe 2:*** \n",
    "Schreiben Sie eine Funktion `readfastq(path)` die einen Dateipfad als Eingabe bekommt und eine Liste an FASTQ_ENTRYS zurück gibt."
   ]
  },
  {
   "cell_type": "code",
   "execution_count": null,
   "id": "2e5d3d77",
   "metadata": {},
   "outputs": [],
   "source": [
    "def readfastq(path):\n",
    "    pass\n",
    "sample1 = readfastq(daten)\n",
    "display(sample1[:5])"
   ]
  },
  {
   "cell_type": "markdown",
   "id": "c04c2be1",
   "metadata": {},
   "source": [
    "***Aufgabe 3:*** Schreiben Sie nun eine Funktion `basic_stats(FASTQListe)`die auf Basis der Liste an FASTQ Objekten folgende Statistiken erstellt und als Tuple in der Reihenfolge zurück gibt:\n",
    "- Anzahl der Reads\n",
    "- Anzahl Sequenzierter Basen\n",
    "- Kleinste Read-Länge\n",
    "- Größte Read-Länge\n"
   ]
  },
  {
   "cell_type": "code",
   "execution_count": null,
   "id": "199d943d",
   "metadata": {},
   "outputs": [],
   "source": [
    "def basic_stats(FASTQListe):\n",
    "    pass\n",
    "\n",
    "print(\"# Reads: %d\\n# Sequenzierte Basen: %d\\nkürzester Read: %d\\nlängster Read: %d\"%basic_stats(sample1))"
   ]
  },
  {
   "cell_type": "markdown",
   "id": "1eac9c10",
   "metadata": {},
   "source": [
    "## Phredscores\n",
    "Phred quality scores `Q` sind logarithmische Darstellungen der base-calling error Wahrscheinlichkeiten P  und *so* definiert:\n",
    "\n",
    "`Q = − 10 *log_10(P)`\n",
    "\n",
    "Phred Quality Score |\tProbability of incorrect base call |\tBase call accuracy\n",
    "--------------------|--------------------------------------|-----------------------\n",
    "10 |\t1 in 10 \t|90%\n",
    "20 |\t1 in 100 \t|99%\n",
    "30 |\t1 in 1000 \t|99.9%\n",
    "40 |\t1 in 10,000 |\t99.99%\n",
    "50 |\t1 in 100,000 |\t99.999%\n",
    "60 |\t1 in 1,000,000 | \t99.9999% \n",
    "\n",
    "\n",
    "Um diese Phredscores besser abspeichern zu können werden diese im ASCII Raum der Duckbaren Zeichen abgespeichert char(33 + phredscore). Hier einmal zum Testen . Genauigkeit zu Phred zum berechnen:"
   ]
  },
  {
   "cell_type": "code",
   "execution_count": null,
   "id": "d1380674",
   "metadata": {},
   "outputs": [],
   "source": [
    "def prob2phred(prob):\n",
    "    return round(-10* math.log10(prob))\n",
    "\n",
    "fehler_wahrscheinlichkeit = [1,0.9,0.5,0.1,0.01,0.00001]\n",
    "\n",
    "for p in fehler_wahrscheinlichkeit:\n",
    "    print(p,\"->\"  , prob2phred(p))"
   ]
  },
  {
   "cell_type": "markdown",
   "id": "10344b24",
   "metadata": {},
   "source": [
    "***Aufgabe 4:*** Schreiben Sie eine Funktion  `qualstring2phredlist(qual)`, die die Qualitätsstrings der FASTQs in Integer Listen wandelt und schreiben Sie eine Funktion `phredlist2qualstring(phredlist)`, die `qualstring2phredlist(qual)` umkehren kann."
   ]
  },
  {
   "cell_type": "code",
   "execution_count": null,
   "id": "c9d7db73",
   "metadata": {},
   "outputs": [],
   "source": [
    "def qualstring2phredlist(qual):\n",
    "    pass\n",
    "\n",
    "def phredlist2qualstring(phredlist):\n",
    "    pass\n",
    "\n",
    "print(qualstring2phredlist(\"!$~\"),[0, 3, 93])\n",
    "print(phredlist2qualstring([0, 3, 93]),\"!$~\")\n",
    "print(phredlist2qualstring(qualstring2phredlist(\"!!$&AF\")) == \"!!$&AF\")\n",
    "print(qualstring2phredlist(phredlist2qualstring([0,8,15]))==[0,8,15])"
   ]
  },
  {
   "cell_type": "markdown",
   "id": "5f8389f1",
   "metadata": {},
   "source": [
    "***Aufgabe 5*** \n",
    "Schreiben Sie eine Funktion `fastqlist2positional_qualities (fastqlist)` die für jeden read in einer FASTQ-Liste die Position und die einzelne Qualitätfür alle Reads als pandas Dataframe ausgibt."
   ]
  },
  {
   "cell_type": "code",
   "execution_count": null,
   "id": "a8d43a9e",
   "metadata": {},
   "outputs": [],
   "source": [
    "def fastqlist2positional_qualities (fastqlist):\n",
    "        pass\n",
    "df = fastqlist2positional_qualities(sample1)\n",
    "display(df)"
   ]
  },
  {
   "cell_type": "markdown",
   "id": "e75602fa",
   "metadata": {},
   "source": [
    "***Aufgabe 6***\n",
    "Plotten Sie in einem Boxplot die Qualitäten der Reads und Teilen Sie dabei die einzelnen Positionen auf der X-Achse auf. Was sehen Sie?"
   ]
  },
  {
   "cell_type": "code",
   "execution_count": null,
   "id": "ae2954d2",
   "metadata": {},
   "outputs": [],
   "source": [
    "sns.set(rc={'figure.figsize':(60,10)})\n"
   ]
  },
  {
   "cell_type": "markdown",
   "id": "7fbbc90b",
   "metadata": {},
   "source": [
    "## ASCII TABELLE\n",
    "\n",
    "int | Phred |char\n",
    "----|--|---\n",
    "0  |   | \n",
    "1  |   | \u0001\n",
    "2  |   | \u0002\n",
    "3  |   | \u0003\n",
    "4  |   | \u0004\n",
    "5  |   | \u0005\n",
    "6  |   | \u0006\n",
    "7  |   | \u0007\n",
    "8  |   |\n",
    "9  |   | \t\n",
    "10  |   | \n",
    "11  |   | \u000b",
    "\n",
    "12  |   | \f",
    "\n",
    "13  |   | \n",
    "14  |   | \u000e\n",
    "15  |   | \u000f\n",
    "16  |   | \u0010\n",
    "17  |   | \u0011\n",
    "18  |   | \u0012\n",
    "19  |   | \u0013\n",
    "20  |   | \u0014\n",
    "21  |   | \u0015\n",
    "22  |   | \u0016\n",
    "23  |   | \u0017\n",
    "24  |   | \u0018\n",
    "25  |   | \u0019\n",
    "26  |   | \u001a\n",
    "27  |   | \u001b\n",
    "28  |   | \u001c",
    "\n",
    "29  |   | \u001d",
    "\n",
    "30  |   | \u001e",
    "\n",
    "31  |   | \u001f\n",
    "32  |   |  \n",
    "33  |  0 | !\n",
    "34  |  1 | \"\n",
    "35  |  2 | #\n",
    "36  |  3 | $\n",
    "37  |  4 | %\n",
    "38  |  5 | &\n",
    "39  |  6 | '\n",
    "40  |  7 | (\n",
    "41  |  8 | )\n",
    "42  |  9 | *\n",
    "43  |  10 | +\n",
    "44  |  11 | ,\n",
    "45  |  12 | -\n",
    "46  |  13 | .\n",
    "47  |  14 | /\n",
    "48  |  15 | 0\n",
    "49  |  16 | 1\n",
    "50  |  17 | 2\n",
    "51  |  18 | 3\n",
    "52  |  19 | 4\n",
    "53  |  20 | 5\n",
    "54  |  21 | 6\n",
    "55  |  22 | 7\n",
    "56  |  23 | 8\n",
    "57  |  24 | 9\n",
    "58  |  25 | :\n",
    "59  |  26 | ;\n",
    "60  |  27 | <\n",
    "61  |  28 | =\n",
    "62  |  29 | >\n",
    "63  |  30 | ?\n",
    "64  |  31 | @\n",
    "65  |  32 | A\n",
    "66  |  33 | B\n",
    "67  |  34 | C\n",
    "68  |  35 | D\n",
    "69  |  36 | E\n",
    "70  |  37 | F\n",
    "71  |  38 | G\n",
    "72  |  39 | H\n",
    "73  |  40 | I\n",
    "74  |  41 | J\n",
    "75  |  42 | K\n",
    "76  |  43 | L\n",
    "77  |  44 | M\n",
    "78  |  45 | N\n",
    "79  |  46 | O\n",
    "80  |  47 | P\n",
    "81  |  48 | Q\n",
    "82  |  49 | R\n",
    "83  |  50 | S\n",
    "84  |  51 | T\n",
    "85  |  52 | U\n",
    "86  |  53 | V\n",
    "87  |  54 | W\n",
    "88  |  55 | X\n",
    "89  |  56 | Y\n",
    "90  |  57 | Z\n",
    "91  |  58 | [\n",
    "92  |  59 | \\\n",
    "93  |  60 | ]\n",
    "94  |  61 | ^\n",
    "95  |  62 | _\n",
    "96  |  63 | `\n",
    "97  |  64 | a\n",
    "98  |  65 | b\n",
    "99  |  66 | c\n",
    "100  |  67 | d\n",
    "101  |  68 | e\n",
    "102  |  69 | f\n",
    "103  |  70 | g\n",
    "104  |  71 | h\n",
    "105  |  72 | i\n",
    "106  |  73 | j\n",
    "107  |  74 | k\n",
    "108  |  75 | l\n",
    "109  |  76 | m\n",
    "110  |  77 | n\n",
    "111  |  78 | o\n",
    "112  |  79 | p\n",
    "113  |  80 | q\n",
    "114  |  81 | r\n",
    "115  |  82 | s\n",
    "116  |  83 | t\n",
    "117  |  84 | u\n",
    "118  |  85 | v\n",
    "119  |  86 | w\n",
    "120  |  87 | x\n",
    "121  |  88 | y\n",
    "122  |  89 | z\n",
    "123  |  90 | {\n",
    "124  |  91 | |\n",
    "125  |  92 | }\n",
    "126  |  93 | ~\n",
    "127  |  94 | "
   ]
  },
  {
   "cell_type": "code",
   "execution_count": null,
   "id": "98abb74d",
   "metadata": {},
   "outputs": [],
   "source": [
    "for x in range(128):\n",
    "    print(x,\" | \", (x)-33 if x>=33 else \"\", \"|\", chr(x))"
   ]
  },
  {
   "cell_type": "code",
   "execution_count": null,
   "id": "512010b3",
   "metadata": {},
   "outputs": [],
   "source": []
  }
 ],
 "metadata": {
  "kernelspec": {
   "display_name": "Python 3 (ipykernel)",
   "language": "python",
   "name": "python3"
  },
  "language_info": {
   "codemirror_mode": {
    "name": "ipython",
    "version": 3
   },
   "file_extension": ".py",
   "mimetype": "text/x-python",
   "name": "python",
   "nbconvert_exporter": "python",
   "pygments_lexer": "ipython3",
   "version": "3.10.11"
  }
 },
 "nbformat": 4,
 "nbformat_minor": 5
}
